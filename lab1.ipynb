{
 "cells": [
  {
   "cell_type": "markdown",
   "metadata": {},
   "source": [
    "# CE888: Data Science and Decision Making Lab 1\n"
   ]
  },
  {
   "cell_type": "markdown",
   "metadata": {},
   "source": [
    "Over today's practice you'll learn:\n",
    "* to use JuPyter notebooks to quickly prototype code and show results\n",
    "* the numerical Python library\n",
    "\n",
    "This lab is divided in two parts. In each of them, you will have to fill in the gaps following the instructions given.\n",
    "The prompts for you to write code will look like this:"
   ]
  },
  {
   "cell_type": "code",
   "execution_count": 1,
   "metadata": {},
   "outputs": [],
   "source": [
    "#<------------INSERT CODE HERE------------>"
   ]
  },
  {
   "cell_type": "markdown",
   "metadata": {},
   "source": [
    "This might involve more than one line of code from you!\n",
    "\n",
    "Do **not** delete code from the notebook.\n",
    "\n",
    "Let's start!"
   ]
  },
  {
   "cell_type": "markdown",
   "metadata": {},
   "source": [
    "## Part 1\n",
    "\n",
    "In the first part of the lab we're going to check your Python skills and, in particular, we will ask you to create some functions to operate on vectors and matrices.\n",
    "\n"
   ]
  },
  {
   "cell_type": "markdown",
   "metadata": {},
   "source": [
    "### Operations with vectors"
   ]
  },
  {
   "cell_type": "code",
   "execution_count": 2,
   "metadata": {},
   "outputs": [
    {
     "name": "stdout",
     "output_type": "stream",
     "text": [
      "[1, 2, 4, 78, 93]\n",
      "The vector has 5 elements\n"
     ]
    }
   ],
   "source": [
    "# Let's create a vector. We can do this as a Python built-in type: the list\n",
    "vector1 = [1, 2, 4, 78, 93] # we declare the vector as a list of elements\n",
    "\n",
    "print(vector1)\n",
    "print(\"The vector has %d elements\" % len(vector1))\n"
   ]
  },
  {
   "cell_type": "code",
   "execution_count": 3,
   "metadata": {},
   "outputs": [],
   "source": [
    "# Let's add a number to every element of the vector.\n",
    "## Exercise: create a function that, given a vector and a number,\n",
    "## returns the addition of that number to each element of the vector\n",
    "def vector_plus_num(vector, number):\n",
    "    for i in range (len(vector)):\n",
    "        vector[i] = vector[i] + number\n",
    "    return vector"
   ]
  },
  {
   "cell_type": "code",
   "execution_count": 4,
   "metadata": {},
   "outputs": [
    {
     "name": "stdout",
     "output_type": "stream",
     "text": [
      "[6, 7, 9, 83, 98]\n",
      "[-27, -26, -24, 50, 65]\n"
     ]
    }
   ],
   "source": [
    "# Let's test your function:\n",
    "print(vector_plus_num(vector1, 5))\n",
    "print(vector_plus_num(vector1, -33))"
   ]
  },
  {
   "cell_type": "markdown",
   "metadata": {},
   "source": [
    "What if we now wanted to mutiply a number and a vector? **Do not do it**, just think about what you'd need!"
   ]
  },
  {
   "cell_type": "markdown",
   "metadata": {},
   "source": [
    "And what if we want to calculate the mean value of your vector?"
   ]
  },
  {
   "cell_type": "code",
   "execution_count": 5,
   "metadata": {},
   "outputs": [],
   "source": [
    "## Exercise: create a function that, given a vector,\n",
    "## returns the mean value of its elements.\n",
    "\n",
    "def vector_mean(vector):\n",
    "    mu = sum (vector)/len(vector)\n",
    "    return mu\n",
    "\n",
    "\n"
   ]
  },
  {
   "cell_type": "code",
   "execution_count": 6,
   "metadata": {},
   "outputs": [
    {
     "name": "stdout",
     "output_type": "stream",
     "text": [
      "Vector 1 is: [-27, -26, -24, 50, 65]\n",
      "The mean value of the vector 1 is 7\n"
     ]
    }
   ],
   "source": [
    "# Now test your function:\n",
    "\n",
    "print (\"Vector 1 is:\", vector1)\n",
    "print (\"The mean value of the vector 1 is %d\" % vector_mean(vector1))"
   ]
  },
  {
   "cell_type": "markdown",
   "metadata": {},
   "source": [
    "We will now work on operations between pairs of vectors."
   ]
  },
  {
   "cell_type": "code",
   "execution_count": 7,
   "metadata": {},
   "outputs": [],
   "source": [
    "# Now let's create a new vector, called vector2, of the same length as vector1.\n",
    "# We will then look at operations with multiple vectors, \n",
    "# such as adding and subtracting them, and vector multiplications.\n",
    "vector2 = [5, 8, 3, 6, 9]\n",
    "\n",
    "assert len(vector1) == len(vector2), \"The vectors are not of the same length\""
   ]
  },
  {
   "cell_type": "code",
   "execution_count": 12,
   "metadata": {},
   "outputs": [],
   "source": [
    "# Create a function that returns new vector of the same length as vector1 and vector2, \n",
    "# for which each element is the sum of the corresponding elements from vector1 and vector2.\n",
    "\n",
    "# Feel free to create a function to do this!\n",
    "\n",
    "\n",
    "def add_two_vectors(vec1, vec2):\n",
    "    sumVec = [None] * len(vec1)    \n",
    "    for i in range (0, len(vec1)):\n",
    "        sumVec[i] = vec1[i] + vec2[i]\n",
    "    return sumVec"
   ]
  },
  {
   "cell_type": "code",
   "execution_count": 13,
   "metadata": {},
   "outputs": [
    {
     "name": "stdout",
     "output_type": "stream",
     "text": [
      "[-22, -18, -21, 56, 74]\n"
     ]
    },
    {
     "ename": "IndexError",
     "evalue": "list index out of range",
     "output_type": "error",
     "traceback": [
      "\u001b[1;31m---------------------------------------------------------------------------\u001b[0m",
      "\u001b[1;31mIndexError\u001b[0m                                Traceback (most recent call last)",
      "\u001b[1;32m<ipython-input-13-f6e743abd3ee>\u001b[0m in \u001b[0;36m<module>\u001b[1;34m()\u001b[0m\n\u001b[0;32m      1\u001b[0m \u001b[1;31m# Let's test your function:\u001b[0m\u001b[1;33m\u001b[0m\u001b[1;33m\u001b[0m\u001b[0m\n\u001b[0;32m      2\u001b[0m \u001b[0mprint\u001b[0m\u001b[1;33m(\u001b[0m\u001b[0madd_two_vectors\u001b[0m\u001b[1;33m(\u001b[0m\u001b[0mvector1\u001b[0m\u001b[1;33m,\u001b[0m \u001b[0mvector2\u001b[0m\u001b[1;33m)\u001b[0m\u001b[1;33m)\u001b[0m\u001b[1;33m\u001b[0m\u001b[0m\n\u001b[1;32m----> 3\u001b[1;33m \u001b[0mprint\u001b[0m\u001b[1;33m(\u001b[0m\u001b[0madd_two_vectors\u001b[0m\u001b[1;33m(\u001b[0m\u001b[0mvector1\u001b[0m\u001b[1;33m,\u001b[0m \u001b[1;33m[\u001b[0m\u001b[1;36m1\u001b[0m\u001b[1;33m,\u001b[0m \u001b[1;36m2\u001b[0m\u001b[1;33m,\u001b[0m \u001b[1;36m3\u001b[0m\u001b[1;33m]\u001b[0m\u001b[1;33m)\u001b[0m\u001b[1;33m)\u001b[0m\u001b[1;33m\u001b[0m\u001b[0m\n\u001b[0m\u001b[0;32m      4\u001b[0m \u001b[1;31m# If the second print resulted in an error, don't worry about it for now!\u001b[0m\u001b[1;33m\u001b[0m\u001b[1;33m\u001b[0m\u001b[0m\n",
      "\u001b[1;32m<ipython-input-12-2d83c73f2cf8>\u001b[0m in \u001b[0;36madd_two_vectors\u001b[1;34m(vec1, vec2)\u001b[0m\n\u001b[0;32m      8\u001b[0m     \u001b[0msumVec\u001b[0m \u001b[1;33m=\u001b[0m \u001b[1;33m[\u001b[0m\u001b[1;32mNone\u001b[0m\u001b[1;33m]\u001b[0m \u001b[1;33m*\u001b[0m \u001b[0mlen\u001b[0m\u001b[1;33m(\u001b[0m\u001b[0mvec1\u001b[0m\u001b[1;33m)\u001b[0m\u001b[1;33m\u001b[0m\u001b[0m\n\u001b[0;32m      9\u001b[0m     \u001b[1;32mfor\u001b[0m \u001b[0mi\u001b[0m \u001b[1;32min\u001b[0m \u001b[0mrange\u001b[0m \u001b[1;33m(\u001b[0m\u001b[1;36m0\u001b[0m\u001b[1;33m,\u001b[0m \u001b[0mlen\u001b[0m\u001b[1;33m(\u001b[0m\u001b[0mvec1\u001b[0m\u001b[1;33m)\u001b[0m\u001b[1;33m)\u001b[0m\u001b[1;33m:\u001b[0m\u001b[1;33m\u001b[0m\u001b[0m\n\u001b[1;32m---> 10\u001b[1;33m         \u001b[0msumVec\u001b[0m\u001b[1;33m[\u001b[0m\u001b[0mi\u001b[0m\u001b[1;33m]\u001b[0m \u001b[1;33m=\u001b[0m \u001b[0mvec1\u001b[0m\u001b[1;33m[\u001b[0m\u001b[0mi\u001b[0m\u001b[1;33m]\u001b[0m \u001b[1;33m+\u001b[0m \u001b[0mvec2\u001b[0m\u001b[1;33m[\u001b[0m\u001b[0mi\u001b[0m\u001b[1;33m]\u001b[0m\u001b[1;33m\u001b[0m\u001b[0m\n\u001b[0m\u001b[0;32m     11\u001b[0m     \u001b[1;32mreturn\u001b[0m \u001b[0msumVec\u001b[0m\u001b[1;33m\u001b[0m\u001b[0m\n",
      "\u001b[1;31mIndexError\u001b[0m: list index out of range"
     ]
    }
   ],
   "source": [
    "# Let's test your function:\n",
    "print(add_two_vectors(vector1, vector2))\n",
    "print(add_two_vectors(vector1, [1, 2, 3]))\n",
    "# If the second print resulted in an error, don't worry about it for now!"
   ]
  },
  {
   "cell_type": "markdown",
   "metadata": {},
   "source": [
    "How about the multiplication of vectors?\n",
    "There are two types of vector multiplications:\n",
    "* The dot product (or scalar product) takes two vectors and returns a scalar.\n",
    "* The cross product (or vector product) takes two vectors and returns another vector."
   ]
  },
  {
   "cell_type": "markdown",
   "metadata": {},
   "source": [
    "Now let's create a function that returns the scalar product of two vectors.\n",
    "\n",
    "This can be done by multiplying pairs of elements and adding the result:\n",
    "\n",
    "A = [A1, A2, A3, ..., An]\n",
    "\n",
    "B = [B1, B2, B3, ..., Bn]\n",
    "\n",
    "A · B = A1·B1 + A2·B2 + ... An·Bn"
   ]
  },
  {
   "cell_type": "code",
   "execution_count": 69,
   "metadata": {},
   "outputs": [],
   "source": [
    "def scalar_product(v1, v2):\n",
    "    scalarProduct = 0\n",
    "    for i in range (0, len(v1)):\n",
    "           scalarProduct = scalarProduct + v1[i] * v2[i]     \n",
    "    return scalarProduct"
   ]
  },
  {
   "cell_type": "code",
   "execution_count": null,
   "metadata": {},
   "outputs": [],
   "source": [
    "# Test your function\n",
    "\n",
    "v1 = (1, 3, 5)\n",
    "v2 = (2, 4, 6)\n",
    "\n",
    "print(\"Scalar product of\", v1, \"and\", v2, \"is: \", scalar_product(v1, v2))"
   ]
  },
  {
   "cell_type": "markdown",
   "metadata": {},
   "source": [
    "### Operations with matrices\n",
    "\n",
    "Again, there are multiple things we can do with matrices. For example, adding/subtracting/multiplying a number to each element of a matrix and matrix multiplication.\n",
    "\n",
    "We're going to attempt the last one only."
   ]
  },
  {
   "cell_type": "code",
   "execution_count": 21,
   "metadata": {},
   "outputs": [],
   "source": [
    "# Create a function that receives two matrices as input and returns the matrix multiplication of the two\n",
    "# If you don't know how to multiply two matrices, check:\n",
    "# https://en.wikipedia.org/wiki/Matrix_multiplication#Definition\n",
    "\n",
    "def matrix_multiplication(a,b):\n",
    "    zip_b = zip(*b)\n",
    "    # uncomment next line if python 3 : \n",
    "    zip_b = list(zip_b)\n",
    "    return [[sum(ele_a*ele_b for ele_a, ele_b in zip(row_a, col_b)) for col_b in zip_b] for row_a in a]\n"
   ]
  },
  {
   "cell_type": "code",
   "execution_count": 17,
   "metadata": {},
   "outputs": [],
   "source": [
    "# And let's test your function:\n",
    "# NOTE: some of the tests below will give errors. Don't worry about them!\n",
    "matrixA = [[1, 2, 3], [1, 2, 3]]\n",
    "matrixB = [[5, 6, 7], [5, 6, 7], [5, 6, 7]]\n",
    "matrixC = [[8, 9], [8, 9], [8, 9], [8, 9]]\n",
    "matrixD = [[10, 11], [10, 11], [10, 11]]"
   ]
  },
  {
   "cell_type": "code",
   "execution_count": 22,
   "metadata": {},
   "outputs": [
    {
     "name": "stdout",
     "output_type": "stream",
     "text": [
      "[[30, 36, 42], [30, 36, 42]]\n"
     ]
    }
   ],
   "source": [
    "print(matrix_multiplication(matrixA, matrixB))"
   ]
  },
  {
   "cell_type": "code",
   "execution_count": 19,
   "metadata": {},
   "outputs": [
    {
     "name": "stdout",
     "output_type": "stream",
     "text": [
      "[[48, 54], []]\n"
     ]
    }
   ],
   "source": [
    "print(matrix_multiplication(matrixA, matrixC))"
   ]
  },
  {
   "cell_type": "code",
   "execution_count": 20,
   "metadata": {},
   "outputs": [
    {
     "name": "stdout",
     "output_type": "stream",
     "text": [
      "[[21, 42, 63], [], []]\n"
     ]
    }
   ],
   "source": [
    "print(matrix_multiplication(matrixD, matrixA))"
   ]
  },
  {
   "cell_type": "markdown",
   "metadata": {},
   "source": [
    "Hopefully this has convinced you that operating with vectors and matrices like this is not the best way.\n",
    "Now we will turn to the second part of this lab, in which you will be introduced to the numerical Python library, *numpy*."
   ]
  },
  {
   "cell_type": "markdown",
   "metadata": {},
   "source": [
    "## Part 2: Numpy\n"
   ]
  },
  {
   "cell_type": "markdown",
   "metadata": {},
   "source": [
    "Numpy has a built-in type called the *ndarray*. "
   ]
  },
  {
   "cell_type": "code",
   "execution_count": 23,
   "metadata": {},
   "outputs": [],
   "source": [
    "import numpy as np # Importing convention for Numpy"
   ]
  },
  {
   "cell_type": "markdown",
   "metadata": {},
   "source": [
    "#### Creating and manipulating arrays"
   ]
  },
  {
   "cell_type": "code",
   "execution_count": 24,
   "metadata": {},
   "outputs": [
    {
     "name": "stdout",
     "output_type": "stream",
     "text": [
      "[1. 2. 3.]\n",
      "float32\n",
      "[1.+2.j 3.-4.j]\n",
      "complex64\n",
      "[False  True  True]\n",
      "bool\n",
      "[[1 2 3]\n",
      " [1 2 3]]\n",
      "int32\n",
      "(2, 3)\n",
      "[5 8 3 6 9]\n",
      "int32\n",
      "(5,)\n"
     ]
    }
   ],
   "source": [
    "# Create arrays with a specified data type\n",
    "\n",
    "arr = np.array([1, 2, 3], dtype=np.float32)\n",
    "print(arr)\n",
    "print(arr.dtype)\n",
    "\n",
    "arr = np.array([1+2j, 3-4j], dtype=np.complex64)  # an array of complex numbers\n",
    "print(arr)\n",
    "print(arr.dtype)\n",
    "\n",
    "arr = np.array([0, 1, 1], dtype=np.bool)  # an array of True/False values\n",
    "print(arr)\n",
    "print(arr.dtype)\n",
    "\n",
    "# We can also create arrays from the vectors and matrices we had before.\n",
    "arr = np.array(matrixA)\n",
    "print(arr)\n",
    "print(arr.dtype)\n",
    "print(arr.shape)\n",
    "\n",
    "arr = np.array(vector2)\n",
    "print(arr)\n",
    "print(arr.dtype)\n",
    "print(arr.shape)\n"
   ]
  },
  {
   "cell_type": "code",
   "execution_count": 25,
   "metadata": {},
   "outputs": [
    {
     "name": "stdout",
     "output_type": "stream",
     "text": [
      "[0 1 2 3 4 5 6 7 8 9]\n",
      "shape: (10,)\n",
      "dtype: int32\n",
      "dim: 1\n",
      "itemsize: 4\n"
     ]
    }
   ],
   "source": [
    "arr_range2 = np.arange(10)\n",
    "print(arr_range2)\n",
    "\n",
    "# Retrieving information on the array\n",
    "print(\"shape:\", arr_range2.shape)\n",
    "print(\"dtype:\", arr_range2.dtype)\n",
    "print(\"dim:\", arr_range2.ndim)\n",
    "print(\"itemsize:\", arr_range2.itemsize)"
   ]
  },
  {
   "cell_type": "code",
   "execution_count": 26,
   "metadata": {},
   "outputs": [
    {
     "name": "stdout",
     "output_type": "stream",
     "text": [
      "[ 0  5 10 15 20 25 30 35 40 45 50 55 60 65 70 75 80 85 90 95]\n",
      "[ 0.          0.52631579  1.05263158  1.57894737  2.10526316  2.63157895\n",
      "  3.15789474  3.68421053  4.21052632  4.73684211  5.26315789  5.78947368\n",
      "  6.31578947  6.84210526  7.36842105  7.89473684  8.42105263  8.94736842\n",
      "  9.47368421 10.        ]\n"
     ]
    }
   ],
   "source": [
    "# We can use the np.arange function to create a range of values:\n",
    "arr = np.arange(0, 100, 5) #np.arange(start, stop, pace)\n",
    "print(arr)\n",
    "# Note: is the last value (100) included?\n",
    "\n",
    "# Similarly, we can use np.linspace:\n",
    "# np.linspace(start, stop, num_of_elements, endpoint=True) \n",
    "arr = np.linspace(0, 10, 20)\n",
    "print(arr)\n",
    "# Note: is the last value (10) included now?"
   ]
  },
  {
   "cell_type": "code",
   "execution_count": 27,
   "metadata": {},
   "outputs": [
    {
     "name": "stdout",
     "output_type": "stream",
     "text": [
      "[[1.5 2.  3. ]\n",
      " [4.  5.  6. ]]\n",
      "(2, 3)\n"
     ]
    }
   ],
   "source": [
    "arr_2d = np.array([(1.5, 2, 3), (4, 5, 6)]) # creating an array from a list of tuples\n",
    "print(arr_2d)\n",
    "print(arr_2d.shape)"
   ]
  },
  {
   "cell_type": "code",
   "execution_count": 28,
   "metadata": {},
   "outputs": [
    {
     "name": "stdout",
     "output_type": "stream",
     "text": [
      "arr_2d[0,0] : 1.5\n",
      "arr_2d[0,:] :  [1.5 2.  3. ]\n",
      "arr_2d[:,0] : [1.5 4. ]\n",
      "[3. 4. 5. 6.]\n"
     ]
    }
   ],
   "source": [
    "# Slicing (i.e., accessing specific elements of the array)\n",
    "\n",
    "print(\"arr_2d[0,0] :\", arr_2d[0, 0])\n",
    "print(\"arr_2d[0,:] : \", arr_2d[0, :])\n",
    "print(\"arr_2d[:,0] :\", arr_2d[:, 0])\n",
    "\n",
    "print(arr_2d[arr_2d > 2])"
   ]
  },
  {
   "cell_type": "code",
   "execution_count": 37,
   "metadata": {},
   "outputs": [
    {
     "name": "stdout",
     "output_type": "stream",
     "text": [
      "[[0. 0. 0. 0. 0. 0. 0. 0. 0. 0.]\n",
      " [0. 0. 0. 0. 0. 0. 0. 0. 0. 0.]\n",
      " [0. 0. 0. 0. 0. 0. 0. 0. 0. 0.]\n",
      " [0. 0. 0. 0. 0. 0. 0. 0. 0. 0.]\n",
      " [0. 0. 0. 0. 0. 0. 0. 0. 0. 0.]\n",
      " [0. 0. 0. 0. 0. 0. 0. 0. 0. 0.]\n",
      " [0. 0. 0. 0. 0. 0. 0. 0. 0. 0.]\n",
      " [0. 0. 0. 0. 0. 0. 0. 0. 0. 0.]\n",
      " [0. 0. 0. 0. 0. 0. 0. 0. 0. 0.]\n",
      " [0. 0. 0. 0. 0. 0. 0. 0. 0. 0.]]\n",
      "(10, 10)\n",
      "[[1. 1. 1. 1.]\n",
      " [1. 1. 1. 1.]\n",
      " [1. 1. 1. 1.]\n",
      " [1. 1. 1. 1.]]\n",
      "(4, 4)\n",
      "[[1. 1. 1. 1. 1. 1. 1. 1.]\n",
      " [1. 1. 1. 1. 1. 1. 1. 1.]]\n",
      "(4, 4)\n"
     ]
    }
   ],
   "source": [
    "# Other types of arrays\n",
    "\n",
    "zeros = np.zeros((10, 10))\n",
    "print(zeros)\n",
    "# print the shape of zeros\n",
    "print(zeros.shape)\n",
    "\n",
    "ones = np.ones((4, 4))\n",
    "print(ones)\n",
    "# print the shape of ones\n",
    "print(ones.shape)\n",
    "\n",
    "print(ones.reshape(2, 8))\n",
    "# print the shape of ones\n",
    "print(ones.shape)"
   ]
  },
  {
   "cell_type": "code",
   "execution_count": 49,
   "metadata": {},
   "outputs": [
    {
     "name": "stdout",
     "output_type": "stream",
     "text": [
      "[[ 1.16721630e+00 -2.58019499e-01 -1.36942360e+00  3.85445087e-01\n",
      "  -1.97837957e+00 -1.20267135e+00 -6.49666311e-01  1.52151710e+00\n",
      "   1.39838520e+00 -1.25798478e-01  4.71347690e-01 -8.05622072e-01\n",
      "   5.69033136e-01  4.28446831e-01 -3.76185731e-01  4.21587637e-01\n",
      "   6.09220868e-01  1.80242967e+00 -8.66558327e-01 -9.96689320e-01\n",
      "   7.33956112e-01 -4.96282025e-01  7.94565568e-02 -1.40418428e+00\n",
      "   2.06509660e+00  4.53830321e-01  2.02227953e-01 -2.35161252e+00\n",
      "  -9.18780727e-01  2.18011314e-02 -4.26566150e-01  5.03690418e-01\n",
      "  -4.70655570e-01  2.47491332e-01  1.36041238e+00  1.73517973e+00\n",
      "  -2.14770160e-01 -1.54263462e+00 -3.88287500e-01  1.13831446e+00\n",
      "   3.46019465e-01 -1.02665313e+00  1.62842315e+00 -3.28024873e-01\n",
      "   5.21454145e-01  1.32956037e+00 -2.94696019e+00  9.55640693e-01\n",
      "  -1.05462235e+00  1.19865654e+00  6.80699408e-01  1.28833934e+00\n",
      "  -5.44856256e-01 -4.24335403e-02  2.26026492e+00  6.22655985e-01\n",
      "  -1.97190094e-01  2.04871700e-01 -4.49421286e-01  1.75331812e+00\n",
      "  -7.39204738e-01 -1.11165622e+00 -4.36633303e-01 -7.59011720e-03\n",
      "   3.62645038e-01  5.11055933e-01  2.19509537e-01  3.60573903e-01\n",
      "  -1.63291162e+00 -2.33405507e+00 -1.13465713e+00 -5.00077800e-01\n",
      "  -6.63926262e-02  3.05972521e-01 -3.26997887e+00  2.19783654e-01\n",
      "   7.68739370e-01 -2.11245705e+00  8.00732429e-01  1.63781067e-01\n",
      "  -2.80765771e-02 -8.11967216e-01 -2.35824375e-01  1.66104301e+00\n",
      "   5.75195090e-01  6.85496379e-01 -7.81111453e-01 -1.80826367e-01\n",
      "   6.32197732e-01 -9.52584465e-01 -5.58226175e-02 -1.42425016e+00\n",
      "   9.53658780e-01 -5.21573409e-01 -1.11849953e+00 -2.36777566e-01\n",
      "   7.74554192e-01  2.70442725e+00  4.93928372e-02 -6.26460054e-01\n",
      "  -2.10574764e-01 -1.52457690e+00 -4.87714077e-01  7.68642943e-01\n",
      "   6.36662546e-01 -4.17266576e-01  3.64807159e-01  1.56663352e+00\n",
      "  -1.59487468e+00 -8.72848345e-01 -6.47031108e-02  1.96828174e+00\n",
      "   1.72154039e+00 -4.45673794e-02 -2.63086042e-01 -2.49319971e-01\n",
      "   2.64866194e-01 -8.97746696e-01 -1.25659506e+00  8.53653026e-01\n",
      "  -1.54820676e+00  1.47705227e+00  6.67552531e-01  4.53525695e-01\n",
      "   6.11150048e-01  1.00274330e+00 -4.04220686e-01  4.91369478e-01\n",
      "   5.45457410e-01  9.22306975e-01  8.63948239e-01  1.03679295e+00\n",
      "  -2.39609310e+00  6.00955874e-01  7.49205067e-01  9.50831294e-01\n",
      "  -5.16486080e-01 -1.82404249e-01 -4.10841871e-03  1.36117062e+00\n",
      "   1.17879077e+00  9.99071388e-01 -8.80267286e-01 -4.31294654e-01\n",
      "   1.12178364e+00 -1.03367918e+00  8.64606289e-02  3.85640180e-01\n",
      "  -8.12095544e-02 -1.85923575e-01 -8.38249199e-02  1.17537547e+00\n",
      "   2.29545842e+00  2.09894866e-01 -1.16331412e+00  5.70873003e-02\n",
      "   1.82062098e+00  9.54667397e-02  1.30591894e+00  2.87681071e-01\n",
      "   3.08226870e-01  1.27647125e+00  6.84244856e-01  1.15162976e+00\n",
      "   2.82437125e-01  5.22751097e-01  2.19315233e-01  6.70552580e-01\n",
      "   2.73411953e-03  1.01502899e+00  5.86736336e-01  8.34808661e-01\n",
      "   7.80561568e-02  2.26710448e+00  4.65210972e-01 -4.33547652e-01\n",
      "  -6.53712908e-01 -1.40103429e+00 -1.46585899e+00 -1.48483545e+00\n",
      "   2.11206389e-02 -2.52873765e-01 -8.41027268e-02  2.88798095e-01\n",
      "   7.35588566e-02  4.61461799e-01 -6.53476793e-01 -2.64418489e-01\n",
      "   3.02514295e-01 -2.28103331e-01 -5.36880532e-01 -1.34505388e+00\n",
      "   1.20655792e+00 -5.65909106e-01 -8.60298399e-01 -2.29599369e-01\n",
      "  -4.34979809e-02 -7.98048853e-01  1.66235380e+00  7.32511649e-01\n",
      "   1.16299715e+00 -8.71839402e-01 -8.85795318e-01  8.43259777e-01\n",
      "  -2.66664101e+00  1.50109372e+00 -7.62389457e-01 -4.52785976e-01\n",
      "  -6.96589967e-01  1.59280649e-01  1.66632867e-01 -6.16347415e-02\n",
      "   2.43070252e-01  1.25916412e+00 -1.24287225e-01 -5.22120937e-01\n",
      "   1.28158091e+00 -1.18878343e-01 -8.74113649e-01 -7.14062897e-01\n",
      "  -8.74430166e-01  3.00255548e+00 -3.62057997e-01 -2.59879813e-01\n",
      "   1.77322972e+00 -8.60660311e-01  4.58723029e-01 -4.44920919e-01\n",
      "  -7.38917784e-01 -2.96478005e-01  1.93691025e+00 -1.24398798e+00\n",
      "   1.81707482e+00 -1.93106685e+00  9.94101836e-02  4.99917495e-01\n",
      "   9.40159378e-02  4.65379258e-01  5.41500699e-01  1.35872412e-01\n",
      "   3.67374742e-01 -3.31259685e-01 -7.73399685e-01  2.81612383e-01\n",
      "   6.32444005e-01  8.69759916e-02  4.06440888e-01 -2.40694171e-01\n",
      "   1.55253975e+00 -2.03877051e-01  8.20516653e-02  9.95122443e-01\n",
      "   4.57355286e-02 -1.31272160e+00  8.93887934e-01 -8.29184314e-01\n",
      "  -6.83328449e-01 -1.32993450e+00 -8.23057387e-01 -1.12004227e+00\n",
      "  -1.59255169e+00 -1.23717588e+00 -1.35347300e+00  1.97095917e+00\n",
      "   9.29623895e-01  3.40897542e-01 -5.21647918e-01  3.66190211e-01\n",
      "   4.60486263e-01  6.86446312e-01  2.21490178e+00  6.85739172e-01\n",
      "  -5.41446032e-01 -6.80548872e-01  5.94091464e-01  3.65269740e-01\n",
      "  -1.78455095e+00  1.05399119e+00  1.19232193e+00 -1.39661144e-02\n",
      "  -1.13492469e-01  8.56350690e-01  2.07489094e+00  3.91991225e+00\n",
      "  -6.55495184e-01 -1.00266726e+00  5.73037013e-01  1.28132841e-01\n",
      "  -6.99924548e-01  2.21162477e-01  2.28104846e-01  5.09977261e-02\n",
      "  -6.52487930e-02 -8.74232406e-01  5.69443600e-01 -3.76820111e-01\n",
      "   6.10228485e-02 -3.30702558e-01  1.43643030e-01 -2.46658751e+00\n",
      "   1.53876856e+00 -4.34626138e-01  9.35863622e-02  5.10445920e-01\n",
      "   3.71571396e-01  5.08543863e-01  4.77402808e-01 -1.28254179e+00\n",
      "  -2.86698131e-01 -3.92616255e-01  1.03595225e-01  1.23456147e+00\n",
      "   9.10133745e-01  4.98783591e-04 -4.00579531e-01  5.24155976e-01\n",
      "   1.62067925e-02 -5.36184238e-01  4.14371868e-01 -7.25929166e-01\n",
      "   2.20519112e-01  9.90138739e-01  9.10266845e-01 -7.70500996e-01\n",
      "  -2.90668283e-01 -1.27059500e-01  1.89816414e+00  2.51343527e-01\n",
      "  -5.71923076e-01  1.73251300e+00  1.09177516e+00  3.60799748e-01\n",
      "   7.51699814e-01 -1.07374724e+00  2.99999939e-01  3.70361241e-01\n",
      "  -2.00380846e+00  1.17437105e+00  5.68187080e-01 -2.00744047e+00\n",
      "  -2.80598090e-01 -9.96087589e-01 -8.75574336e-01  5.32586740e-01\n",
      "  -9.50990838e-01  1.98548322e+00  4.77481295e-03  1.58992209e+00\n",
      "  -2.69958564e-01  1.41930445e+00 -5.85753238e-01  2.19905678e+00\n",
      "   4.96263233e-02  4.61621908e-01 -1.15353609e+00 -1.12999043e+00\n",
      "   5.35564663e-01 -6.56296459e-01 -7.42972351e-01  1.00106262e+00\n",
      "  -4.00108608e-01  1.12774582e+00  2.72030407e-01 -1.70985027e-01\n",
      "   4.69070870e-01  1.29461262e+00  4.42248234e-01 -1.12420820e+00\n",
      "   9.69418625e-01  6.83145871e-01 -9.13501551e-01 -7.51854835e-01\n",
      "  -1.02939902e-01 -5.65988858e-01 -6.37013858e-01 -1.40620611e+00\n",
      "   1.42167416e+00  1.91558266e+00  1.16075113e+00 -1.03492384e+00\n",
      "   1.36030976e-01 -7.53362423e-01 -5.07330751e-01 -3.06277656e+00\n",
      "   5.79735543e-01 -8.57110313e-01 -7.95147887e-01  5.80684192e-01\n",
      "  -6.05101999e-01 -1.12209635e-01  9.52641013e-01  4.84966826e-01\n",
      "   1.26530209e+00  2.82957493e+00  1.06109064e+00 -6.53599791e-01\n",
      "  -4.04265880e-01 -1.36420300e+00  1.68571758e+00 -1.93172948e-01\n",
      "   7.80018340e-01  4.97711434e-01 -1.96484961e+00  9.34904389e-01\n",
      "  -1.43585704e+00 -2.16468103e-01  4.14396459e-01 -5.01435829e-01\n",
      "  -1.13982610e+00  1.27961960e-01 -1.32356391e+00 -5.00968726e-01\n",
      "  -1.61246524e+00 -1.56838707e+00 -1.19589861e+00 -6.14306091e-01\n",
      "  -1.01381655e+00 -3.91455894e-01  5.16416019e-04  1.50459556e+00\n",
      "  -6.99496931e-01  2.66754867e+00  5.08567261e-01  6.55534747e-01\n",
      "  -2.99246473e-01 -7.49805499e-01  4.53659507e-01 -1.16845854e+00\n",
      "   7.71383407e-01 -2.05844081e-01  1.58446553e+00  1.52625975e+00\n",
      "   8.34842776e-01  5.71072755e-02  1.15228258e+00 -5.75915986e-01\n",
      "  -8.68632065e-01  8.31846678e-01 -1.32506980e+00 -1.00428289e+00\n",
      "  -4.81679980e-01 -6.43539508e-02  5.18129228e-01  5.90104240e-01\n",
      "   3.28790176e-01 -8.48067045e-01  3.86552611e-01  1.47580303e-01\n",
      "  -1.21946522e+00 -1.18072563e+00 -9.72112164e-01 -3.19927816e-01\n",
      "   9.82929522e-01  3.52298619e-01  2.73992473e-01 -4.24227270e-01\n",
      "   2.85307831e-02 -9.95566325e-01  7.04405661e-02  4.54843836e-01\n",
      "   6.73121081e-01  2.89438963e-02 -1.73358132e+00 -3.48985906e-01\n",
      "  -7.04569945e-01  1.40353942e+00  5.17424855e-01  7.45570269e-01\n",
      "  -1.21181851e+00 -2.11444157e+00 -7.85300019e-01  4.86128072e-01\n",
      "  -5.99333817e-01  1.41088822e-01 -1.25611634e+00  1.69817793e-01\n",
      "   1.13293741e+00  4.36152523e-01  1.81441288e-01 -4.28668326e-01\n",
      "  -1.15985903e+00  1.20109187e+00  9.68288287e-01 -6.64188518e-03\n",
      "   5.95473322e-01 -1.45803945e+00  3.88808287e-01  5.50877347e-01\n",
      "  -5.21685275e-01  1.47456308e+00  3.40978684e-01 -9.29125438e-01\n",
      "   2.29338912e-01 -3.44001400e-01  1.45138362e+00 -1.69481479e-01\n",
      "  -2.09748338e-01  1.92865815e-01  1.00664432e+00  1.30574979e+00\n",
      "   7.57482517e-01  1.14417850e-01  1.07834768e+00 -1.10071655e+00\n",
      "  -1.72061862e+00  1.82317577e-02  2.96693987e-01 -9.95005569e-02\n",
      "   8.43502950e-01 -4.12417237e-01  1.07337342e+00  1.20973846e+00\n",
      "  -5.13281238e-02  1.18835823e+00 -3.91384730e-01  2.46246617e-01\n",
      "  -2.40361446e-03 -3.02832541e-02 -1.44641064e+00 -3.48987925e-01\n",
      "  -3.82747195e-01 -3.07461942e-01  3.24517475e-01  5.74654043e-01\n",
      "  -7.42315289e-01 -8.04251674e-01 -1.82399104e+00 -3.30863002e-01\n",
      "   2.38474690e-01  7.92740899e-01  7.23538579e-01  2.54686693e-01\n",
      "  -1.38219674e+00  5.85639122e-01 -1.44061420e+00  1.37730157e+00\n",
      "   9.09894649e-01  1.09525508e+00  2.51521284e+00  1.72189236e+00\n",
      "   6.38450614e-01 -5.15708929e-01 -1.97405072e-01  1.40168441e+00\n",
      "  -2.01432638e+00 -6.31435898e-01 -3.05929769e-01  6.11494094e-01\n",
      "   8.07038524e-01  2.52912522e-04  3.17945838e-01 -1.00886727e+00\n",
      "   1.01140328e+00  4.80696481e-01  2.28811607e-01 -1.38815769e+00\n",
      "  -4.21001867e-01  1.87006353e+00 -2.72629988e-01  8.89464721e-02\n",
      "  -2.37370101e-01  1.04512844e+00 -3.90775557e-01 -3.49800766e-01\n",
      "  -6.22761601e-01 -2.38267520e+00  7.95864220e-01  5.49100794e-01\n",
      "   9.33833132e-01 -3.44635411e-01  8.79958350e-01 -5.92797174e-01\n",
      "  -1.01613207e+00 -3.91354323e-01  1.96619509e+00 -6.84619254e-01\n",
      "  -1.78845281e+00  1.49113033e-01  1.15084722e+00  4.59628461e-01\n",
      "   1.40330708e+00 -1.73510523e-01 -1.07172868e+00 -1.04986484e-01\n",
      "   1.01696854e+00 -1.57688602e-01 -1.66556361e-01  1.43193310e+00\n",
      "   9.55626456e-01  9.73848119e-01 -1.28463632e+00 -2.31641155e-01\n",
      "  -1.19384598e+00 -2.09611791e-01 -4.79736745e-01 -6.65867112e-01\n",
      "  -5.80944197e-02  4.72402448e-01  8.35915978e-01 -9.95318196e-01\n",
      "   9.38534862e-01  6.25862957e-01  4.57882501e-02 -7.89787564e-01\n",
      "   1.26628763e-01 -2.84851219e-01  7.75102248e-01  6.27018702e-01\n",
      "   1.94798041e+00 -1.06640614e+00 -4.07881695e-01  1.00837294e+00\n",
      "   1.49086182e+00 -1.35509205e+00  1.29025627e+00 -1.13060324e+00\n",
      "   6.24705234e-01 -1.58277215e+00 -9.77489149e-01  1.12419663e+00\n",
      "   1.81453779e-01  7.60920137e-01 -3.80641342e-01 -1.26578933e-01\n",
      "   1.49290631e+00 -7.37625353e-01 -7.89058271e-01 -8.06305532e-01\n",
      "   6.86293834e-01  1.03233221e+00 -1.81293816e+00 -1.88236831e-01\n",
      "   1.96985837e+00 -1.38438700e+00 -2.82898274e+00  4.25747125e-01\n",
      "  -5.66898278e-01 -2.48019407e+00 -1.42455151e-01 -4.40187620e-01\n",
      "  -3.98995371e-01 -2.35158192e-01 -4.27909995e-01  9.55623151e-01\n",
      "  -4.40984299e-02  7.29974418e-02 -1.43062081e+00  1.55379008e+00\n",
      "   9.29279904e-01 -1.48951088e+00 -2.86024765e-01  1.25965121e+00\n",
      "   2.13574370e-01 -4.38591100e-01 -9.35979183e-01  1.24338189e+00\n",
      "   1.91384274e-01 -6.24209329e-01  1.42971878e+00  1.61498391e+00\n",
      "  -4.47160400e-02  1.83506694e+00  4.29968446e-01 -4.85623846e-01\n",
      "   1.68468487e+00  1.36489730e+00  3.23835826e-01 -3.60935645e-01\n",
      "   1.18955452e+00 -4.67269244e-01  1.35803588e+00  1.16718184e+00\n",
      "   7.26393686e-01  8.73500884e-01 -6.67664307e-01  6.18884555e-01\n",
      "   1.65486706e+00 -1.93921079e+00 -8.11357795e-01  4.10856371e-01\n",
      "   1.92894988e+00 -2.02524223e+00  1.04439570e-01  1.77250421e+00\n",
      "   2.71946075e-01 -6.41725068e-01 -1.11142664e-01  1.75006445e+00\n",
      "   7.07462586e-01 -5.81424495e-01  1.22502085e+00 -8.78353515e-01\n",
      "  -1.08163435e+00 -1.11973683e+00  9.60415306e-01 -1.64955691e+00\n",
      "   4.10895580e-01  5.92979867e-01 -9.56124247e-01 -5.37476111e-01\n",
      "   3.65115284e-01 -4.84629899e-01 -1.15177069e-01  2.57903292e-01\n",
      "   3.54502387e-02  4.73878751e-01 -1.46197325e+00  1.03549947e+00\n",
      "   5.08651328e-01 -4.19880908e-02 -9.73414323e-01 -7.55073542e-01\n",
      "   7.80837168e-01 -5.11944681e-01  1.09055724e+00  4.34640151e-01\n",
      "  -3.90510325e-01  6.11609658e-01 -2.03761302e+00 -1.04980502e+00\n",
      "   1.73935049e+00  2.64789377e-01  3.80009670e-01 -5.96487723e-02\n",
      "  -6.07733016e-01 -1.60399386e+00  1.46619057e+00 -8.54798132e-01\n",
      "   1.70555694e+00  8.43290056e-01 -9.10877506e-01 -1.34624599e+00\n",
      "  -5.43412677e-01  2.25075125e+00  4.64412282e-01  7.90050349e-01\n",
      "   6.63060490e-01 -6.26201756e-01 -4.83648232e-01 -6.31115779e-01\n",
      "   1.25664893e+00  8.12919353e-01 -6.00628689e-01 -2.52762784e-02\n",
      "   6.47116723e-03 -4.52496353e-01 -4.19676109e-01  5.26877705e-02\n",
      "  -8.69229823e-01  1.71283571e+00 -6.48264926e-01  4.05110938e-01\n",
      "   3.18105416e-01  3.03752857e-01  2.53121884e-01 -1.74014607e-01\n",
      "   1.09260146e+00 -1.17626474e-01 -5.76297302e-01 -4.78582118e-01\n",
      "  -4.35214369e-01  1.10727020e+00  6.18464456e-01 -8.05932553e-02\n",
      "  -7.19741247e-01 -1.12067147e-01  1.47426451e-01  7.46831788e-01\n",
      "   6.69096106e-01 -1.81550877e+00  1.39917693e+00 -1.32695319e-01\n",
      "   7.14514975e-02  2.28758280e-02  7.04600542e-01  4.39512374e-01\n",
      "   2.49817998e-01 -2.97475459e-01  2.41730717e-01  3.11604721e-01\n",
      "   1.08236343e+00 -6.81416895e-02 -4.65009887e-01 -1.82636043e+00\n",
      "   1.79026108e+00  2.20646614e-01 -1.27071144e+00  1.59366375e+00\n",
      "  -5.22172110e-01 -8.12616656e-01  1.47679504e+00 -9.76277027e-01\n",
      "  -2.64045998e+00  3.36857607e-01 -6.36500221e-02  1.25244013e+00\n",
      "   2.93520862e-01 -6.62259946e-01 -4.39699661e-01  1.04507796e-01\n",
      "   8.41612366e-02 -6.94760643e-01  1.03943945e+00  7.03897958e-01\n",
      "   4.45075294e-01  3.24704334e-01 -5.96976655e-01  9.91786399e-01\n",
      "   9.34445906e-01  4.77834727e-01 -2.12677979e-01 -1.10342907e+00\n",
      "  -1.09050941e+00 -6.73362490e-01 -8.79020737e-01  8.78156520e-01\n",
      "   3.00423001e-01  9.60928612e-01  1.14431095e-01 -2.78380108e-01\n",
      "  -1.12644084e-01 -1.59487143e+00 -1.10677200e+00 -9.87404160e-01\n",
      "   1.78765537e-01 -3.01396225e-02  2.65975185e-01 -2.07187392e+00\n",
      "  -1.34282508e+00 -8.17737757e-01  1.26556188e+00  9.79857608e-01\n",
      "   6.73034314e-01 -1.22971791e+00 -9.26584518e-01 -4.04600311e-01\n",
      "  -3.49618860e-01  7.27558060e-02  5.11797706e-01  1.09162138e+00\n",
      "  -1.37677384e+00 -8.44121798e-01  1.11349540e+00  1.45236989e+00\n",
      "  -5.54084361e-01  1.21536422e+00 -1.93130264e+00  1.14599416e+00\n",
      "   1.55508836e+00  4.87846398e-01  5.09786024e-01  1.14269994e+00\n",
      "  -1.59223609e+00  9.74231994e-01  1.55908352e-01 -2.03804323e-01\n",
      "   4.76630714e-02  1.71470205e-01 -1.15058089e-01  1.26440890e+00\n",
      "   1.49821454e+00 -5.80058751e-01 -5.45285513e-01  6.55156606e-01\n",
      "   4.46822948e-01  2.39072506e-01 -7.54464227e-01 -6.33780179e-01\n",
      "   3.93468910e-01 -8.26310198e-01  6.95367587e-01 -9.41679291e-01\n",
      "  -3.82247475e-01 -1.49640628e+00  2.42766987e-01  2.95281748e-01\n",
      "  -7.97990111e-03 -8.95122354e-01 -6.21191445e-01 -3.16821028e-01\n",
      "  -6.69930739e-01  1.50641880e-01 -1.80770416e+00  1.82703701e-01\n",
      "   7.02087221e-01  6.85803407e-02 -3.97837867e-01  4.37908893e-01\n",
      "  -1.14616556e+00 -5.54486592e-01 -1.37735791e+00  3.48029904e-01\n",
      "  -6.37341055e-01 -1.64572164e-01  1.08100700e+00 -1.46906359e-01\n",
      "  -4.75313456e-01  4.68603429e-01  2.90514896e+00  3.33434706e-01\n",
      "  -1.65403197e-01  6.36960280e-01 -5.47232254e-01 -1.22347235e+00\n",
      "  -3.05860847e-01 -1.35973278e+00  2.97716961e+00 -1.29407180e+00\n",
      "   4.50950423e-01 -4.30972111e-03 -1.42079560e+00  9.63315827e-02\n",
      "   1.38252285e+00  8.01417173e-01  4.36466193e-01 -9.05391631e-01\n",
      "  -1.23947280e+00  1.80024204e-01 -1.68585151e-01  5.60463290e-02\n",
      "   1.19198824e+00  1.42207043e+00  7.41797323e-01 -1.69979145e+00\n",
      "  -1.62640989e-01  1.04480089e+00  1.19797238e+00 -1.42851777e+00\n",
      "   2.35256298e-01  1.16793082e+00  2.78115192e-02 -9.24896456e-01\n",
      "   1.16298439e-01 -4.70629468e-01 -2.02283045e-02  1.62489472e+00\n",
      "   1.43938166e+00 -1.31880958e-01 -6.55422090e-01  1.32929096e+00\n",
      "  -1.21708934e+00  9.44421842e-01 -3.67632584e-01 -7.83167358e-01\n",
      "   3.69995836e-01  7.98462647e-01  4.51156391e-01  2.15351503e+00\n",
      "   2.17334078e+00 -1.03675605e+00  2.02577389e-01  4.17510867e-01\n",
      "  -9.86287582e-01  5.07658708e-01  1.86734147e-01  1.23894820e+00\n",
      "   2.06772006e-01 -3.41344749e-01 -8.90595866e-02 -2.19646147e-01\n",
      "   1.63761104e+00 -1.44557728e+00 -8.48255158e-01  1.11863137e-01\n",
      "  -3.00983299e-01 -2.91540121e-01  8.25787654e-02  1.84175355e-01\n",
      "  -1.24740990e+00 -2.90953662e-01  1.72058376e-01 -7.15589385e-01\n",
      "  -7.63976530e-01 -4.91685437e-01  5.17908924e-01  1.90475647e+00\n",
      "   4.04848935e-01 -1.75248888e-01 -7.72981567e-01 -2.05284811e-02\n",
      "   6.88292695e-01 -8.85843893e-01 -1.13393347e+00  4.39677474e-01\n",
      "  -1.03183224e+00  1.27193145e+00  1.70449370e+00  1.35434850e-01\n",
      "   1.71880452e+00 -1.30084384e+00  1.27327874e+00 -1.71444730e+00\n",
      "   9.70790156e-01  3.92501462e-01  4.82634238e-01 -1.96711290e-01\n",
      "   5.92925628e-01 -9.35439344e-01  2.51842172e-01  7.93649567e-01]]\n",
      "[ 1.1672163  -0.2580195  -1.3694236   0.38544509 -1.97837957 -1.20267135\n",
      " -0.64966631  1.5215171   1.3983852  -0.12579848]\n"
     ]
    }
   ],
   "source": [
    "# We can also use numpy to generate random values.\n",
    "randn = np.random.randn(1, 1000)\n",
    "# print the shape of randn\n",
    "print (randn)\n",
    "\n",
    "# print the first 10 elements of randn. What happens if you re-run this code?\n",
    "print (randn[0, 0:10])\n",
    "\n",
    "#The whole array changes upon repeting the instruction\n"
   ]
  },
  {
   "cell_type": "code",
   "execution_count": 51,
   "metadata": {},
   "outputs": [
    {
     "ename": "AttributeError",
     "evalue": "module 'numpy' has no attribute 'seed'",
     "output_type": "error",
     "traceback": [
      "\u001b[1;31m---------------------------------------------------------------------------\u001b[0m",
      "\u001b[1;31mAttributeError\u001b[0m                            Traceback (most recent call last)",
      "\u001b[1;32m<ipython-input-51-503e3bec73b9>\u001b[0m in \u001b[0;36m<module>\u001b[1;34m()\u001b[0m\n\u001b[1;32m----> 1\u001b[1;33m \u001b[0mnp\u001b[0m\u001b[1;33m.\u001b[0m\u001b[0mseed\u001b[0m\u001b[1;33m(\u001b[0m\u001b[1;36m23\u001b[0m\u001b[1;33m)\u001b[0m\u001b[1;33m\u001b[0m\u001b[0m\n\u001b[0m\u001b[0;32m      2\u001b[0m \u001b[1;33m\u001b[0m\u001b[0m\n\u001b[0;32m      3\u001b[0m \u001b[1;31m# Generate a new array of random numbers, this time of shape (3, 2) and print it.\u001b[0m\u001b[1;33m\u001b[0m\u001b[1;33m\u001b[0m\u001b[0m\n\u001b[0;32m      4\u001b[0m \u001b[1;31m# What happens when you re-run the code now?\u001b[0m\u001b[1;33m\u001b[0m\u001b[1;33m\u001b[0m\u001b[0m\n\u001b[0;32m      5\u001b[0m \u001b[1;31m# TIP: you might want to save the result to compare the previous and the new one\u001b[0m\u001b[1;33m\u001b[0m\u001b[1;33m\u001b[0m\u001b[0m\n",
      "\u001b[1;31mAttributeError\u001b[0m: module 'numpy' has no attribute 'seed'"
     ]
    }
   ],
   "source": [
    "np.seed(23)\n",
    "\n",
    "# Generate a new array of random numbers, this time of shape (3, 2) and print it.\n",
    "# What happens when you re-run the code now?\n",
    "# TIP: you might want to save the result to compare the previous and the new one\n",
    "\n",
    "randn2 = np.random.randn(3, 2)\n",
    "\n",
    "print (randn2)\n",
    "\n",
    "#Seed freezes the random seed used for RNG\n",
    "\n",
    "# Think: what does np.seed() do? (Use Google if you don't know!)"
   ]
  },
  {
   "cell_type": "markdown",
   "metadata": {},
   "source": [
    "#### Combine arrays"
   ]
  },
  {
   "cell_type": "code",
   "execution_count": 53,
   "metadata": {},
   "outputs": [
    {
     "name": "stdout",
     "output_type": "stream",
     "text": [
      "[[1 2 3 4]\n",
      " [1 2 3 4]]\n",
      "[[5 6 7 8]\n",
      " [5 6 7 8]]\n",
      "[[1 2 3 4]\n",
      " [1 2 3 4]\n",
      " [5 6 7 8]\n",
      " [5 6 7 8]]\n",
      "[[1 2 3 4 5 6 7 8]\n",
      " [1 2 3 4 5 6 7 8]]\n",
      "[[1 2 3 4]\n",
      " [1 2 3 4]\n",
      " [5 6 7 8]\n",
      " [5 6 7 8]]\n",
      "[[1 2 3 4 5 6 7 8]\n",
      " [1 2 3 4 5 6 7 8]]\n"
     ]
    }
   ],
   "source": [
    "arr1 = np.array([[1, 2, 3, 4], [1, 2, 3, 4]])\n",
    "arr2 = np.array([[5, 6, 7, 8], [5, 6, 7 , 8]])\n",
    "\n",
    "# Print the shapes of arr1 and arr2 and cat after each of the types of concatenations.\n",
    "# Concatenating arrays is a very common operation. Make sure you understand it!\n",
    "# TIP: it might help you to print the actual cat array after each type of concatenation too\n",
    "\n",
    "print (arr1)\n",
    "print (arr2)\n",
    "\n",
    "# concatenate along the row\n",
    "cat = np.concatenate((arr1, arr2), axis=0)\n",
    "print (cat)\n",
    "\n",
    "\n",
    "# concatenate along the column\n",
    "cat = np.concatenate((arr1, arr2), axis=1)    \n",
    "print (cat)\n",
    "\n",
    "\n",
    "# stack arrays vertically\n",
    "cat = np.vstack((arr1, arr2))\n",
    "print (cat)\n",
    "\n",
    "# stack arrays horizontally\n",
    "cat = np.hstack((arr1, arr2))\n",
    "print (cat)\n"
   ]
  },
  {
   "cell_type": "markdown",
   "metadata": {},
   "source": [
    "#### Operations with arrays"
   ]
  },
  {
   "cell_type": "code",
   "execution_count": 58,
   "metadata": {},
   "outputs": [],
   "source": [
    "#Let's create a couple of vectors using numpy\n",
    "v1 = np.array([20, 30, 40, 50])\n",
    "v2 = np.arange(4)\n",
    "\n",
    "#And a couple of matrices\n",
    "mat1 = np.array([[1, 2, 3, 4], [1, 2, 3, 4]])\n",
    "mat2 = mat1.T # this is the transpose of mat1"
   ]
  },
  {
   "cell_type": "code",
   "execution_count": 59,
   "metadata": {},
   "outputs": [
    {
     "name": "stdout",
     "output_type": "stream",
     "text": [
      "[25 35 45 55]\n",
      "[[2368 2369 2370 2371]\n",
      " [2368 2369 2370 2371]]\n"
     ]
    }
   ],
   "source": [
    "# Add a number to an array of 1-D (i.e., a vector)\n",
    "print(5 + v1)\n",
    "# Compare the line above to your function vector_plus_num(vector, number) from Part 1.\n",
    "\n",
    "# Does your function work with matrices?\n",
    "\n",
    "# How do you add a number to a np.array object? Try adding 2367 to mat1\n",
    "\n",
    "print (mat1 + 2367)"
   ]
  },
  {
   "cell_type": "code",
   "execution_count": 67,
   "metadata": {},
   "outputs": [
    {
     "name": "stdout",
     "output_type": "stream",
     "text": [
      "Adding two vectors [20 31 42 53]\n",
      "Subtracting two vectors [20 29 38 47]\n",
      "[0.         1.         1.41421356 1.73205081]\n",
      "[2.99573227 3.40119738 3.68887945 3.91202301]\n"
     ]
    }
   ],
   "source": [
    "# Let's try to add and subtract vectors now:\n",
    "print(\"Adding two vectors\", v1 + v2)\n",
    "print(\"Subtracting two vectors\", v1 - v2)\n",
    "\n",
    "# What happens if you try to add two vectors of different length?\n",
    "# It returns Invalid Sintax Error\n",
    "\n",
    "# Square root of each elemnt of v2:\n",
    "print(np.sqrt(v2))\n",
    "\n",
    "# Calculate the logarithm of each element of v1\n",
    "# TIP: check if you can do this using some numpy function!\n",
    "\n",
    "print(np.log(v1))\n",
    "\n"
   ]
  },
  {
   "cell_type": "markdown",
   "metadata": {},
   "source": [
    "### Multiplication of vectors\n",
    "\n",
    "There are a number of functions in numpy that you can use to multiply vectors and matrices.\n",
    "\n",
    "Scalar product of two vectors: np.dot(vector1, vector2)\n",
    "\n",
    "Vector product of two vectors: np.cross(x, y)"
   ]
  },
  {
   "cell_type": "code",
   "execution_count": 76,
   "metadata": {},
   "outputs": [
    {
     "name": "stdout",
     "output_type": "stream",
     "text": [
      "260\n",
      "260\n",
      "-19.29882014503238\n",
      "0.001965761184692383\n",
      "260\n",
      "0.0004963874816894531\n"
     ]
    }
   ],
   "source": [
    "# Calculate the scalar product of v1 and v2 using your function from part 1 and the numpy function.\n",
    "print (scalar_product(v1, v2))\n",
    "print (np.dot(v1, v2))\n",
    "\n",
    "# Check if the result is the same using your function from Part 1\n",
    "\n",
    "assert scalar_product(v1, v2) == np.dot(v1, v2), \"The functions differ\"\n",
    "\n",
    "\n",
    "v3 = np.random.randn(4000)\n",
    "v4 = np.random.randn(4000)\n",
    "# Calculate the scalar product of v3 and v4 using your function from part 1 and the numpy function.\n",
    "# Compare the time it takes to execute each of them.\n",
    "# HINT: https://stackoverflow.com/questions/7370801/measure-time-elapsed-in-python\n",
    "\n",
    "import time\n",
    "\n",
    "start = time.time()\n",
    "print (scalar_product(v3, v4))\n",
    "end = time.time()\n",
    "print(end - start)\n",
    "\n",
    "start = time.time()\n",
    "print (np.dot(v1, v2))\n",
    "end = time.time()\n",
    "print(end - start)\n"
   ]
  },
  {
   "cell_type": "code",
   "execution_count": 84,
   "metadata": {},
   "outputs": [
    {
     "name": "stdout",
     "output_type": "stream",
     "text": [
      "[  0  30  80 150]\n"
     ]
    }
   ],
   "source": [
    "# Calculate the vector product of v1 and v2 using the numpy function.\n",
    "\n",
    "print (v1*v2)\n"
   ]
  },
  {
   "cell_type": "markdown",
   "metadata": {},
   "source": [
    "### Matrix multiplication\n",
    "\n",
    "This can be done on numpy using: np.matmul(a, b)"
   ]
  },
  {
   "cell_type": "code",
   "execution_count": 85,
   "metadata": {},
   "outputs": [
    {
     "name": "stdout",
     "output_type": "stream",
     "text": [
      "[[30, 30], [30, 30]]\n",
      "0.0004980564117431641\n",
      "[[30 30]\n",
      " [30 30]]\n",
      "0.0\n"
     ]
    }
   ],
   "source": [
    "# Check the result of multiplying mat1 and mat2 using the numpy function and the one you created in part 1.\n",
    "# Check the execution time for each of them. Which one is faster? \n",
    "\n",
    "\n",
    "\n",
    "# Is it the same result?\n",
    "\n",
    "start = time.time()\n",
    "print (matrix_multiplication(mat1, mat2))\n",
    "end = time.time()\n",
    "print(end - start)\n",
    "\n",
    "start = time.time()\n",
    "print (np.dot(mat1, mat2))\n",
    "end = time.time()\n",
    "print(end - start)\n",
    "\n",
    "\n",
    "#Same result, numpy is faster."
   ]
  },
  {
   "cell_type": "markdown",
   "metadata": {},
   "source": [
    "**Plotting a function**"
   ]
  },
  {
   "cell_type": "code",
   "execution_count": 88,
   "metadata": {},
   "outputs": [],
   "source": [
    "import matplotlib.pyplot as plt"
   ]
  },
  {
   "cell_type": "code",
   "execution_count": 95,
   "metadata": {},
   "outputs": [
    {
     "data": {
      "image/png": "[encoded data removed]",
      "text/plain": [
       "<Figure size 432x288 with 1 Axes>"
      ]
     },
     "metadata": {
      "needs_background": "light"
     },
     "output_type": "display_data"
    }
   ],
   "source": [
    "t = np.linspace(0, 20, 50)\n",
    "s = np.sin (t)\n",
    "\n",
    "plt.figure()\n",
    "plt.plot(t, s)\n",
    "plt.xlabel(\"Time\")\n",
    "plt.ylabel(\"sin(1/4*pi*t)\")\n",
    "plt.title(\"Sinusoidal function\")\n",
    "plt.show()"
   ]
  },
  {
   "cell_type": "code",
   "execution_count": 97,
   "metadata": {},
   "outputs": [
    {
     "name": "stdout",
     "output_type": "stream",
     "text": [
      "0.9980874821347183\n",
      "-0.9996916551562264\n",
      "[1 4 5 8 9]\n",
      "[0 3 3 7 7]\n"
     ]
    }
   ],
   "source": [
    "print(np.max(s))\n",
    "print(np.min(s))\n",
    "\n",
    "## Elementwise minimum and maximum\n",
    "arr1 = np.array([1, 3, 5, 7, 9])\n",
    "arr2 = np.array([0, 4, 3, 8, 7])\n",
    "print(np.maximum(arr1, arr2))\n",
    "print(np.minimum(arr1, arr2))"
   ]
  },
  {
   "cell_type": "code",
   "execution_count": 98,
   "metadata": {
    "scrolled": true
   },
   "outputs": [
    {
     "name": "stdout",
     "output_type": "stream",
     "text": [
      "0.051186846816811744\n",
      "0.05906506196380401\n",
      "0.9849848305395229\n"
     ]
    }
   ],
   "source": [
    "# Statistical summaries \n",
    "\n",
    "print(np.mean(randn))\n",
    "print(np.median(randn))\n",
    "print(np.std(randn))\n",
    "\n"
   ]
  },
  {
   "cell_type": "markdown",
   "metadata": {},
   "source": [
    "Create a 5 (channels) x 100 (samples) matrix of random integers between 0 and 543 and retrieve the following information:\n",
    "    - the max, min, mean of all samples.\n",
    "    - the mean and variance of each channel\n"
   ]
  },
  {
   "cell_type": "code",
   "execution_count": 107,
   "metadata": {},
   "outputs": [
    {
     "name": "stdout",
     "output_type": "stream",
     "text": [
      "537.4604298791835 0.10289153975827747 273.6411784648648\n",
      "Channel 0 :  254.07787474254462 143.80590935491688\n",
      "Channel 1 :  286.5674956340256 146.63406351652952\n",
      "Channel 2 :  261.44683411045946 153.641712537965\n",
      "Channel 3 :  300.5983551140069 153.11720498769148\n",
      "Channel 4 :  265.51533272328766 149.81577285078552\n"
     ]
    }
   ],
   "source": [
    "rdmVec = np.random.uniform(low=0, high=543, size=(5,100))\n",
    "print (np.max(rdmVec), np.min(rdmVec), np.mean(rdmVec))\n",
    "for i in range (0,5):\n",
    "    print (\"Channel\", i, \": \" ,np.mean(rdmVec[i,:]), np.std(rdmVec[i,:]))"
   ]
  },
  {
   "cell_type": "markdown",
   "metadata": {},
   "source": [
    "Use the function hist() from matplotlib to show the histogram of values of the third channel."
   ]
  },
  {
   "cell_type": "code",
   "execution_count": 127,
   "metadata": {},
   "outputs": [
    {
     "data": {
      "image/png": "[encoded data removed]",
      "text/plain": [
       "<Figure size 432x288 with 1 Axes>"
      ]
     },
     "metadata": {
      "needs_background": "light"
     },
     "output_type": "display_data"
    }
   ],
   "source": [
    "n, bins, patches = plt.hist(x=rdmVec[3,:], bins=30, color='#0504aa', alpha=1, rwidth=0.85)\n",
    "plt.grid(axis='y', alpha=0.75)\n",
    "plt.xlabel('Value')\n",
    "plt.ylabel('Frequency')\n",
    "plt.title('Histogram of Channel 3')\n",
    "maxfreq = n.max()\n",
    "# Set a clean upper y-axis limit."
   ]
  }
 ],
 "metadata": {
  "kernelspec": {
   "display_name": "Python 3",
   "language": "python",
   "name": "python3"
  },
  "language_info": {
   "codemirror_mode": {
    "name": "ipython",
    "version": 3
   },
   "file_extension": ".py",
   "mimetype": "text/x-python",
   "name": "python",
   "nbconvert_exporter": "python",
   "pygments_lexer": "ipython3",
   "version": "3.5.6"
  }
 },
 "nbformat": 4,
 "nbformat_minor": 2
}
