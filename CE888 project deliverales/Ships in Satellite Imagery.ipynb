{
 "cells": [
  {
   "cell_type": "markdown",
   "metadata": {},
   "source": [
    "# Ships in Satellite Imagery"
   ]
  },
  {
   "cell_type": "markdown",
   "metadata": {},
   "source": [
    "## 0. Importing libraries"
   ]
  },
  {
   "cell_type": "code",
   "execution_count": 1,
   "metadata": {},
   "outputs": [
    {
     "name": "stderr",
     "output_type": "stream",
     "text": [
      "Using TensorFlow backend.\n"
     ]
    }
   ],
   "source": [
    "import json, sys, random\n",
    "import numpy as np\n",
    "import pandas as pd\n",
    "from keras.models import Sequential\n",
    "from keras.layers import Dense, Flatten, Activation\n",
    "from keras.layers import Dropout\n",
    "from keras.layers.convolutional import Conv2D, MaxPooling2D\n",
    "from keras.utils import np_utils\n",
    "from keras.utils import to_categorical\n",
    "from keras.optimizers import SGD\n",
    "import keras.callbacks\n",
    "from PIL import Image, ImageDraw \n",
    "from matplotlib import pyplot as plt\n",
    "from random import randint\n",
    "import os\n",
    "os.environ[\"CUDA_DEVICE_ORDER\"]=\"PCI_BUS_ID\"\n",
    "os.environ[\"CUDA_VISIBLE_DEVICES\"]=\"0\" #model will be trained on GPU 0"
   ]
  },
  {
   "cell_type": "markdown",
   "metadata": {},
   "source": [
    "## 1. Reading the data"
   ]
  },
  {
   "cell_type": "code",
   "execution_count": 2,
   "metadata": {},
   "outputs": [
    {
     "name": "stdout",
     "output_type": "stream",
     "text": [
      "Size of the data: (4000, 19200)\n",
      "Number of Ship Images: 1000\n",
      "Number of NoShip Images: 3000\n"
     ]
    }
   ],
   "source": [
    "fships = open('./shipsnet.json')\n",
    "dataset = json.load(fships)\n",
    "fships.close()\n",
    "pships = pd.DataFrame(dataset)\n",
    "x = np.array(dataset['data']).astype('uint8')\n",
    "y = np.array(dataset['labels']).astype('uint8')\n",
    "print ('Size of the data:', x.shape)\n",
    "print('Number of Ship Images: {}'.format(np.sum(y==1)))\n",
    "print('Number of NoShip Images: {}'.format(np.sum(y==0)))"
   ]
  },
  {
   "cell_type": "markdown",
   "metadata": {},
   "source": [
    "## 2. Displaying the header"
   ]
  },
  {
   "cell_type": "code",
   "execution_count": 3,
   "metadata": {},
   "outputs": [
    {
     "data": {
      "text/html": [
       "<div>\n",
       "<style scoped>\n",
       "    .dataframe tbody tr th:only-of-type {\n",
       "        vertical-align: middle;\n",
       "    }\n",
       "\n",
       "    .dataframe tbody tr th {\n",
       "        vertical-align: top;\n",
       "    }\n",
       "\n",
       "    .dataframe thead th {\n",
       "        text-align: right;\n",
       "    }\n",
       "</style>\n",
       "<table border=\"1\" class=\"dataframe\">\n",
       "  <thead>\n",
       "    <tr style=\"text-align: right;\">\n",
       "      <th></th>\n",
       "      <th>data</th>\n",
       "      <th>labels</th>\n",
       "      <th>locations</th>\n",
       "      <th>scene_ids</th>\n",
       "    </tr>\n",
       "  </thead>\n",
       "  <tbody>\n",
       "    <tr>\n",
       "      <th>0</th>\n",
       "      <td>[82, 89, 91, 87, 89, 87, 86, 86, 86, 86, 84, 8...</td>\n",
       "      <td>1</td>\n",
       "      <td>[-118.2254694333423, 33.73803725920789]</td>\n",
       "      <td>20180708_180909_0f47</td>\n",
       "    </tr>\n",
       "    <tr>\n",
       "      <th>1</th>\n",
       "      <td>[76, 75, 67, 62, 68, 72, 73, 73, 68, 69, 69, 6...</td>\n",
       "      <td>1</td>\n",
       "      <td>[-122.33222866289329, 37.7491755586813]</td>\n",
       "      <td>20170705_180816_103e</td>\n",
       "    </tr>\n",
       "    <tr>\n",
       "      <th>2</th>\n",
       "      <td>[125, 127, 129, 130, 126, 125, 129, 133, 132, ...</td>\n",
       "      <td>1</td>\n",
       "      <td>[-118.14283073363218, 33.736016066914175]</td>\n",
       "      <td>20180712_211331_0f06</td>\n",
       "    </tr>\n",
       "    <tr>\n",
       "      <th>3</th>\n",
       "      <td>[102, 99, 113, 106, 96, 102, 105, 105, 103, 10...</td>\n",
       "      <td>1</td>\n",
       "      <td>[-122.34784341495181, 37.76648707436548]</td>\n",
       "      <td>20170609_180756_103a</td>\n",
       "    </tr>\n",
       "    <tr>\n",
       "      <th>4</th>\n",
       "      <td>[78, 76, 74, 78, 79, 79, 79, 82, 86, 85, 83, 8...</td>\n",
       "      <td>1</td>\n",
       "      <td>[-122.34852408322172, 37.75878462398653]</td>\n",
       "      <td>20170515_180653_1007</td>\n",
       "    </tr>\n",
       "  </tbody>\n",
       "</table>\n",
       "</div>"
      ],
      "text/plain": [
       "                                                data  labels  \\\n",
       "0  [82, 89, 91, 87, 89, 87, 86, 86, 86, 86, 84, 8...       1   \n",
       "1  [76, 75, 67, 62, 68, 72, 73, 73, 68, 69, 69, 6...       1   \n",
       "2  [125, 127, 129, 130, 126, 125, 129, 133, 132, ...       1   \n",
       "3  [102, 99, 113, 106, 96, 102, 105, 105, 103, 10...       1   \n",
       "4  [78, 76, 74, 78, 79, 79, 79, 82, 86, 85, 83, 8...       1   \n",
       "\n",
       "                                   locations             scene_ids  \n",
       "0    [-118.2254694333423, 33.73803725920789]  20180708_180909_0f47  \n",
       "1    [-122.33222866289329, 37.7491755586813]  20170705_180816_103e  \n",
       "2  [-118.14283073363218, 33.736016066914175]  20180712_211331_0f06  \n",
       "3   [-122.34784341495181, 37.76648707436548]  20170609_180756_103a  \n",
       "4   [-122.34852408322172, 37.75878462398653]  20170515_180653_1007  "
      ]
     },
     "execution_count": 3,
     "metadata": {},
     "output_type": "execute_result"
    }
   ],
   "source": [
    "pships.head()"
   ]
  },
  {
   "cell_type": "markdown",
   "metadata": {},
   "source": [
    "## 3. Reshaping the data"
   ]
  },
  {
   "cell_type": "code",
   "execution_count": 4,
   "metadata": {},
   "outputs": [
    {
     "name": "stdout",
     "output_type": "stream",
     "text": [
      "Shape of the input:  (4000, 3, 80, 80)\n",
      "Shape of the output:  (4000, 2)\n"
     ]
    }
   ],
   "source": [
    "X = x.reshape ([-1, 3, 80, 80])\n",
    "print ('Shape of the input: ', X.shape)\n",
    "Y = to_categorical(y, num_classes=2)\n",
    "print ('Shape of the output: ', Y.shape)"
   ]
  },
  {
   "cell_type": "markdown",
   "metadata": {},
   "source": [
    "## 4. Visualizing the color spectrums"
   ]
  },
  {
   "cell_type": "code",
   "execution_count": 5,
   "metadata": {},
   "outputs": [
    {
     "data": {
      "image/png": "[encoded data removed]",
      "text/plain": [
       "<Figure size 1080x360 with 3 Axes>"
      ]
     },
     "metadata": {
      "needs_background": "light"
     },
     "output_type": "display_data"
    }
   ],
   "source": [
    "spectrum = X[randint(0, X.shape[0])]\n",
    "\n",
    "plt.figure(2, figsize = (5*3, 5*1))\n",
    "plt.set_cmap('jet')\n",
    "plt.subplot(1, 3, 1)\n",
    "plt.imshow(spectrum[0])\n",
    "plt.subplot(1, 3, 2)\n",
    "plt.imshow(spectrum[1])\n",
    "plt.subplot(1, 3, 3)\n",
    "plt.imshow(spectrum[2])  \n",
    "plt.show()"
   ]
  },
  {
   "cell_type": "markdown",
   "metadata": {},
   "source": [
    "## 5. Splitting and normalizing the data"
   ]
  },
  {
   "cell_type": "code",
   "execution_count": 6,
   "metadata": {},
   "outputs": [],
   "source": [
    "\n",
    "# shuffle all indexes\n",
    "indexes = np.arange(4000)\n",
    "np.random.shuffle(indexes)\n",
    "X_train = X[indexes].transpose([0,2,3,1])\n",
    "y_train = Y[indexes]\n",
    "\n",
    "# normalization\n",
    "X_train = X_train / 255"
   ]
  },
  {
   "cell_type": "code",
   "execution_count": 7,
   "metadata": {},
   "outputs": [],
   "source": [
    "\n",
    "from sklearn.model_selection import train_test_split\n",
    "auto_train_X,auto_valid_X,auto_train_ground,auto_valid_ground = train_test_split(X_train,\n",
    "                                                                 y_train,\n",
    "                                                                 test_size=0.0,\n",
    "                                                                 random_state=13)"
   ]
  },
  {
   "cell_type": "markdown",
   "metadata": {},
   "source": [
    "## 6. Training the convolutional autoencoder"
   ]
  },
  {
   "cell_type": "code",
   "execution_count": 8,
   "metadata": {},
   "outputs": [],
   "source": [
    "import keras\n",
    "from matplotlib import pyplot as plt\n",
    "import numpy as np\n",
    "import gzip\n",
    "%matplotlib inline\n",
    "from keras.models import Model\n",
    "from keras.optimizers import RMSprop\n",
    "from keras.layers import Input,Dense,Flatten,Dropout,merge,Reshape,Conv2D,MaxPooling2D,UpSampling2D,Conv2DTranspose\n",
    "from keras.layers.normalization import BatchNormalization\n",
    "from keras.models import Model,Sequential\n",
    "from keras.callbacks import ModelCheckpoint\n",
    "from keras.optimizers import Adadelta, RMSprop,SGD,Adam\n",
    "from keras import regularizers\n",
    "from keras import backend as K\n",
    "from keras.utils import to_categorical\n",
    "\n",
    "batch_size = 64\n",
    "epochs = 18\n",
    "inChannel = 3\n",
    "x, y = 80, 80\n",
    "input_img = Input(shape = (x, y, inChannel))\n",
    "num_classes = 10\n",
    "\n",
    "\n",
    "def encoder(input_img):\n",
    "    #encoder\n",
    "    #input = 28 x 28 x 1 (wide and thin)\n",
    "    conv1 = Conv2D(32, (3, 3), activation='relu', padding='same')(input_img) #28 x 28 x 32\n",
    "    conv1 = BatchNormalization()(conv1)\n",
    "    conv1 = Conv2D(32, (3, 3), activation='relu', padding='same')(conv1)\n",
    "    conv1 = BatchNormalization()(conv1)\n",
    "    pool1 = MaxPooling2D(pool_size=(2, 2))(conv1) #14 x 14 x 32\n",
    "    conv2 = Conv2D(64, (3, 3), activation='relu', padding='same')(pool1) #14 x 14 x 64\n",
    "    conv2 = BatchNormalization()(conv2)\n",
    "    conv2 = Conv2D(64, (3, 3), activation='relu', padding='same')(conv2)\n",
    "    conv2 = BatchNormalization()(conv2)\n",
    "    pool2 = MaxPooling2D(pool_size=(2, 2))(conv2) #7 x 7 x 64\n",
    "    conv3 = Conv2D(128, (3, 3), activation='relu', padding='same')(pool2) #7 x 7 x 128 (small and thick)\n",
    "    conv3 = BatchNormalization()(conv3)\n",
    "    conv3 = Conv2D(128, (3, 3), activation='relu', padding='same')(conv3)\n",
    "    conv3 = BatchNormalization()(conv3)\n",
    "    conv4 = Conv2D(256, (3, 3), activation='relu', padding='same')(conv3) #7 x 7 x 256 (small and thick)\n",
    "    conv4 = BatchNormalization()(conv4)\n",
    "    conv4 = Conv2D(256, (3, 3), activation='relu', padding='same')(conv4)\n",
    "    conv4 = BatchNormalization()(conv4)\n",
    "    return conv4\n",
    "\n",
    "def decoder(conv4):    \n",
    "    #decoder\n",
    "    conv5 = Conv2D(128, (3, 3), activation='relu', padding='same')(conv4) #7 x 7 x 128\n",
    "    conv5 = BatchNormalization()(conv5)\n",
    "    conv5 = Conv2D(128, (3, 3), activation='relu', padding='same')(conv5)\n",
    "    conv5 = BatchNormalization()(conv5)\n",
    "    conv6 = Conv2D(64, (3, 3), activation='relu', padding='same')(conv5) #7 x 7 x 64\n",
    "    conv6 = BatchNormalization()(conv6)\n",
    "    conv6 = Conv2D(64, (3, 3), activation='relu', padding='same')(conv6)\n",
    "    conv6 = BatchNormalization()(conv6)\n",
    "    up1 = UpSampling2D((2,2))(conv6) #14 x 14 x 64\n",
    "    conv7 = Conv2D(32, (3, 3), activation='relu', padding='same')(up1) # 14 x 14 x 32\n",
    "    conv7 = BatchNormalization()(conv7)\n",
    "    conv7 = Conv2D(32, (3, 3), activation='relu', padding='same')(conv7)\n",
    "    conv7 = BatchNormalization()(conv7)\n",
    "    up2 = UpSampling2D((2,2))(conv7) # 28 x 28 x 32\n",
    "    decoded = Conv2D(3, (3, 3), activation='sigmoid', padding='same')(up2) # 28 x 28 x 1\n",
    "    return decoded\n",
    "\n",
    "autoencoder = Model(input_img, decoder(encoder(input_img)))\n",
    "encoder_model = Model(input_img, encoder(input_img))\n",
    "autoencoder.compile(loss='mean_squared_error', optimizer = RMSprop())"
   ]
  },
  {
   "cell_type": "code",
   "execution_count": 9,
   "metadata": {},
   "outputs": [
    {
     "name": "stdout",
     "output_type": "stream",
     "text": [
      "Train on 3200 samples, validate on 800 samples\n",
      "Epoch 1/18\n",
      "3200/3200 [==============================] - 18s 6ms/step - loss: 0.0201 - val_loss: 0.1918\n",
      "Epoch 2/18\n",
      "3200/3200 [==============================] - 10s 3ms/step - loss: 0.0086 - val_loss: 0.0588\n",
      "Epoch 3/18\n",
      "3200/3200 [==============================] - 10s 3ms/step - loss: 0.0061 - val_loss: 0.0656\n",
      "Epoch 4/18\n",
      "3200/3200 [==============================] - 10s 3ms/step - loss: 0.0047 - val_loss: 0.0449\n",
      "Epoch 5/18\n",
      "3200/3200 [==============================] - 10s 3ms/step - loss: 0.0041 - val_loss: 0.0456\n",
      "Epoch 6/18\n",
      "3200/3200 [==============================] - 10s 3ms/step - loss: 0.0035 - val_loss: 0.0532\n",
      "Epoch 7/18\n",
      "3200/3200 [==============================] - 10s 3ms/step - loss: 0.0030 - val_loss: 0.0258\n",
      "Epoch 8/18\n",
      "3200/3200 [==============================] - 10s 3ms/step - loss: 0.0035 - val_loss: 0.0103\n",
      "Epoch 9/18\n",
      "3200/3200 [==============================] - 10s 3ms/step - loss: 0.0029 - val_loss: 0.0325\n",
      "Epoch 10/18\n",
      "3200/3200 [==============================] - 10s 3ms/step - loss: 0.0027 - val_loss: 0.0092\n",
      "Epoch 11/18\n",
      "3200/3200 [==============================] - 10s 3ms/step - loss: 0.0026 - val_loss: 0.0160\n",
      "Epoch 12/18\n",
      "3200/3200 [==============================] - 10s 3ms/step - loss: 0.0025 - val_loss: 0.0366\n",
      "Epoch 13/18\n",
      "3200/3200 [==============================] - 10s 3ms/step - loss: 0.0021 - val_loss: 0.0124\n",
      "Epoch 14/18\n",
      "3200/3200 [==============================] - 10s 3ms/step - loss: 0.0022 - val_loss: 0.0069\n",
      "Epoch 15/18\n",
      "3200/3200 [==============================] - 10s 3ms/step - loss: 0.0022 - val_loss: 0.0068\n",
      "Epoch 16/18\n",
      "3200/3200 [==============================] - 10s 3ms/step - loss: 0.0020 - val_loss: 0.0123\n",
      "Epoch 17/18\n",
      "3200/3200 [==============================] - 10s 3ms/step - loss: 0.0020 - val_loss: 0.0082\n",
      "Epoch 18/18\n",
      "3200/3200 [==============================] - 10s 3ms/step - loss: 0.0018 - val_loss: 0.0039\n"
     ]
    }
   ],
   "source": [
    "train_X,valid_X,train_ground,valid_ground = train_test_split(auto_train_X,\n",
    "                                                             auto_train_X,\n",
    "                                                             test_size=0.2,\n",
    "                                                             random_state=13)\n",
    "\n",
    "\n",
    "encoder_train = autoencoder.fit(train_X, train_ground, batch_size=batch_size,epochs=epochs,verbose=1,validation_data=(valid_X, valid_ground))"
   ]
  },
  {
   "cell_type": "code",
   "execution_count": 10,
   "metadata": {},
   "outputs": [
    {
     "data": {
      "image/png": "[encoded data removed]",
      "text/plain": [
       "<Figure size 432x288 with 1 Axes>"
      ]
     },
     "metadata": {
      "needs_background": "light"
     },
     "output_type": "display_data"
    }
   ],
   "source": [
    "loss = encoder_train.history['loss']\n",
    "val_loss = encoder_train.history['val_loss']\n",
    "epochs = range(18)\n",
    "plt.figure()\n",
    "plt.plot(epochs, loss, 'bo', label='Training loss')\n",
    "plt.plot(epochs, val_loss, 'b', label='Validation loss')\n",
    "plt.title('Training and validation loss')\n",
    "plt.legend()\n",
    "plt.show()"
   ]
  },
  {
   "cell_type": "markdown",
   "metadata": {},
   "source": [
    "## 7. Encoding the original imagery"
   ]
  },
  {
   "cell_type": "code",
   "execution_count": 11,
   "metadata": {},
   "outputs": [],
   "source": [
    "enc_trainX = encoder_model.predict(X_train)"
   ]
  },
  {
   "cell_type": "markdown",
   "metadata": {},
   "source": [
    "## 8. Training the convolutional neural network predictor"
   ]
  },
  {
   "cell_type": "code",
   "execution_count": 12,
   "metadata": {},
   "outputs": [],
   "source": [
    "np.random.seed(7)\n",
    "\n",
    "# network design\n",
    "model = Sequential()\n",
    "\n",
    "model.add(Conv2D(32, (3, 3), padding='same', input_shape=(20, 20, 256), activation='relu'))\n",
    "model.add(MaxPooling2D(pool_size=(2, 2))) #40x40\n",
    "model.add(Dropout(0.25))\n",
    "\n",
    "model.add(Conv2D(32, (3, 3), padding='same', activation='relu'))\n",
    "model.add(MaxPooling2D(pool_size=(2, 2))) #20x20\n",
    "model.add(Dropout(0.25))\n",
    "\n",
    "model.add(Conv2D(32, (3, 3), padding='same', activation='relu'))\n",
    "model.add(MaxPooling2D(pool_size=(2, 2))) #10x10\n",
    "model.add(Dropout(0.25))\n",
    "\n",
    "model.add(Conv2D(32, (10, 10), padding='same', activation='relu'))\n",
    "model.add(MaxPooling2D(pool_size=(2, 2))) #5x5\n",
    "model.add(Dropout(0.25))\n",
    "\n",
    "model.add(Flatten())\n",
    "model.add(Dense(512, activation='relu'))\n",
    "model.add(Dropout(0.5))\n",
    "\n",
    "model.add(Dense(2, activation='softmax'))"
   ]
  },
  {
   "cell_type": "code",
   "execution_count": 13,
   "metadata": {},
   "outputs": [
    {
     "name": "stdout",
     "output_type": "stream",
     "text": [
      "Train on 3200 samples, validate on 800 samples\n",
      "Epoch 1/18\n",
      " - 7s - loss: 0.5744 - acc: 0.7475 - val_loss: 0.5613 - val_acc: 0.7512\n",
      "Epoch 2/18\n",
      " - 5s - loss: 0.5642 - acc: 0.7497 - val_loss: 0.5611 - val_acc: 0.7512\n",
      "Epoch 3/18\n",
      " - 5s - loss: 0.5628 - acc: 0.7497 - val_loss: 0.5610 - val_acc: 0.7512\n",
      "Epoch 4/18\n",
      " - 5s - loss: 0.5640 - acc: 0.7497 - val_loss: 0.5611 - val_acc: 0.7512\n",
      "Epoch 5/18\n",
      " - 5s - loss: 0.5631 - acc: 0.7497 - val_loss: 0.5620 - val_acc: 0.7512\n",
      "Epoch 6/18\n",
      " - 5s - loss: 0.5646 - acc: 0.7497 - val_loss: 0.5613 - val_acc: 0.7512\n",
      "Epoch 7/18\n",
      " - 5s - loss: 0.5631 - acc: 0.7497 - val_loss: 0.5610 - val_acc: 0.7512\n",
      "Epoch 8/18\n",
      " - 5s - loss: 0.5619 - acc: 0.7497 - val_loss: 0.5614 - val_acc: 0.7512\n",
      "Epoch 9/18\n",
      " - 5s - loss: 0.5633 - acc: 0.7497 - val_loss: 0.5617 - val_acc: 0.7512\n",
      "Epoch 10/18\n",
      " - 5s - loss: 0.5641 - acc: 0.7497 - val_loss: 0.5615 - val_acc: 0.7512\n",
      "Epoch 11/18\n",
      " - 5s - loss: 0.5636 - acc: 0.7497 - val_loss: 0.5610 - val_acc: 0.7512\n",
      "Epoch 12/18\n",
      " - 5s - loss: 0.5645 - acc: 0.7497 - val_loss: 0.5611 - val_acc: 0.7512\n",
      "Epoch 13/18\n",
      " - 5s - loss: 0.5636 - acc: 0.7497 - val_loss: 0.5610 - val_acc: 0.7512\n",
      "Epoch 14/18\n",
      " - 5s - loss: 0.5632 - acc: 0.7497 - val_loss: 0.5610 - val_acc: 0.7512\n",
      "Epoch 15/18\n",
      " - 5s - loss: 0.5636 - acc: 0.7497 - val_loss: 0.5612 - val_acc: 0.7512\n",
      "Epoch 16/18\n",
      " - 5s - loss: 0.5628 - acc: 0.7497 - val_loss: 0.5616 - val_acc: 0.7512\n",
      "Epoch 17/18\n",
      " - 4s - loss: 0.5638 - acc: 0.7497 - val_loss: 0.5610 - val_acc: 0.7512\n",
      "Epoch 18/18\n",
      " - 4s - loss: 0.5637 - acc: 0.7497 - val_loss: 0.5617 - val_acc: 0.7512\n"
     ]
    },
    {
     "data": {
      "text/plain": [
       "<keras.callbacks.History at 0x215a51aa780>"
      ]
     },
     "execution_count": 13,
     "metadata": {},
     "output_type": "execute_result"
    }
   ],
   "source": [
    "# optimization setup\n",
    "sgd = SGD(lr=0.01, momentum=0.9, nesterov=True)\n",
    "model.compile(\n",
    "    loss='categorical_crossentropy',\n",
    "    optimizer=sgd,\n",
    "    metrics=['accuracy'])\n",
    "\n",
    "# training\n",
    "model.fit(\n",
    "    enc_trainX, \n",
    "    y_train,\n",
    "    batch_size=32,\n",
    "    epochs=18,\n",
    "    validation_split=0.2,\n",
    "    shuffle=True,\n",
    "    verbose=2)"
   ]
  }
 ],
 "metadata": {
  "kernelspec": {
   "display_name": "Python 3",
   "language": "python",
   "name": "python3"
  },
  "language_info": {
   "codemirror_mode": {
    "name": "ipython",
    "version": 3
   },
   "file_extension": ".py",
   "mimetype": "text/x-python",
   "name": "python",
   "nbconvert_exporter": "python",
   "pygments_lexer": "ipython3",
   "version": "3.5.6"
  }
 },
 "nbformat": 4,
 "nbformat_minor": 2
}
